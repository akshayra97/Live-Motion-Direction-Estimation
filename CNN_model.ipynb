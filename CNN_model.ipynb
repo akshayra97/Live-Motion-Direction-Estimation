{
 "cells": [
  {
   "cell_type": "code",
   "execution_count": 50,
   "metadata": {},
   "outputs": [
    {
     "name": "stdout",
     "output_type": "stream",
     "text": [
      "torch.Size([11177, 300, 300])\n",
      "(11177,)\n"
     ]
    }
   ],
   "source": [
    "import numpy as np\n",
    "import os\n",
    "from os.path import join, isfile\n",
    "from PIL import Image\n",
    "import torch\n",
    "from sklearn.utils import shuffle\n",
    "from sklearn.model_selection import train_test_split\n",
    "# Change directory to the data directory from hw1\n",
    "os.chdir(r\"C:\\Users\\aksha\\OneDrive\\Desktop\\Desktop\\Spring 2023\\Estimation Detection and Learning\\Final Project\\Disparity_Map\")\n",
    "half_path = r\"C:\\Users\\aksha\\OneDrive\\Desktop\\Desktop\\Spring 2023\\Estimation Detection and Learning\\Final Project\\Disparity_Map\"\n",
    "count = 0\n",
    "train_x_im = []\n",
    "dir_list = os.listdir('.')\n",
    "train_labels = []\n",
    "label_count = 0\n",
    "# Open all the images from the files list for both train and test data and append to a large tensor\n",
    "# Normalize the data so it is easier to process\n",
    "for folder in dir_list:\n",
    "    full_path = half_path + \"\\\\\" + folder\n",
    "    os.chdir(full_path)\n",
    "    for file in os.listdir('.'):\n",
    "        with Image.open(file) as img:\n",
    "            img = img.resize((300, 300))\n",
    "            img_data = np.asarray(img)\n",
    "            img_data = img_data.astype(np.float32) # / 255.0\n",
    "            img_tensor = torch.from_numpy(img_data).float()\n",
    "            train_x_im.append(img_tensor)\n",
    "        train_labels.append(label_count)\n",
    "    label_count = label_count + 1\n",
    "train_x = torch.stack(train_x_im)\n",
    "print(np.shape(train_x))\n",
    "print(np.shape(train_labels))\n",
    "# Rearange tensor\n",
    "#train_shuf, labels_shuf = shuffle(train_x, train_labels, random_state=0)\n",
    "X_train, X_test, y_train, y_test = train_test_split(train_x, train_labels, test_size=0.33, random_state=42)"
   ]
  },
  {
   "cell_type": "code",
   "execution_count": 51,
   "metadata": {},
   "outputs": [
    {
     "name": "stdout",
     "output_type": "stream",
     "text": [
      "torch.Size([7488, 1, 300, 300])\n"
     ]
    }
   ],
   "source": [
    "X_train = X_train.unsqueeze(0)\n",
    "X_test = X_test.unsqueeze(0)\n",
    "X_train = X_train.permute(1, 0, 2, 3)\n",
    "X_test = X_test.permute(1, 0, 2, 3)\n",
    "print(np.shape(X_train))"
   ]
  },
  {
   "cell_type": "code",
   "execution_count": 52,
   "metadata": {},
   "outputs": [],
   "source": [
    "# Create a tensor for the labels as well\n",
    "y_train = np.array(y_train)\n",
    "y_train = y_train.astype(int)\n",
    "y_test = np.array(y_test)\n",
    "y_test = y_test.astype(int)\n",
    "train_label = torch.tensor(y_train).long()\n",
    "test_label = torch.tensor(y_test).long()"
   ]
  },
  {
   "cell_type": "code",
   "execution_count": 53,
   "metadata": {},
   "outputs": [],
   "source": [
    "import torch.nn as nn\n",
    "# Create CNN model with various layers. Apply pooling and RELU\n",
    "# Make sure to set the linear layers correctly\n",
    "class Conv2D(nn.Module):\n",
    "    def __init__(self):\n",
    "        super().__init__()\n",
    "        self.network = nn.Sequential(\n",
    "            \n",
    "            nn.Conv2d(1,20,5),\n",
    "            nn.ReLU(),\n",
    "            nn.MaxPool2d(2,2),\n",
    "            nn.Conv2d(20,64,5),\n",
    "            nn.ReLU(),\n",
    "            nn.MaxPool2d(4,4),\n",
    "            nn.Conv2d(64,64,7),\n",
    "            nn.ReLU(),\n",
    "            nn.MaxPool2d(4,4),\n",
    "            \n",
    "            nn.Flatten(),\n",
    "            #nn.Linear(3136,6000),\n",
    "            #nn.ReLU(),\n",
    "            nn.Linear(3136,1024),\n",
    "            nn.ReLU(),\n",
    "            nn.Linear(1024, 512),\n",
    "            nn.ReLU(),\n",
    "            nn.Linear(512,5)\n",
    "        )\n",
    "    \n",
    "    def forward(self, x):\n",
    "        return self.network(x)\n",
    "\n",
    "model = Conv2D()"
   ]
  },
  {
   "cell_type": "code",
   "execution_count": 54,
   "metadata": {},
   "outputs": [],
   "source": [
    "# Create your train and test datasets with labels\n",
    "batch_size = 200\n",
    "train_loader = torch.utils.data.DataLoader(dataset=torch.utils.data.TensorDataset(X_train,train_label),\n",
    "                                           batch_size=batch_size,\n",
    "                                           shuffle=True)\n",
    "test_loader = torch.utils.data.DataLoader(dataset=torch.utils.data.TensorDataset(X_test,test_label),\n",
    "                                           batch_size=batch_size,\n",
    "                                           shuffle=True)\n",
    " \n",
    "# Define the loss function and optimizer\n",
    "criterion = nn.CrossEntropyLoss()\n",
    "optimizer = torch.optim.Adam(model.parameters(), lr=0.001)"
   ]
  },
  {
   "cell_type": "code",
   "execution_count": 55,
   "metadata": {},
   "outputs": [
    {
     "name": "stdout",
     "output_type": "stream",
     "text": [
      "Epoch 1/10, train loss: 2.8057, train acc: 0.5486, test loss: 0.6218, test acc: 0.7314\n",
      "Epoch 2/10, train loss: 0.5261, train acc: 0.7684, test loss: 0.3585, test acc: 0.8458\n",
      "Epoch 3/10, train loss: 0.2903, train acc: 0.8831, test loss: 0.2869, test acc: 0.8927\n",
      "Epoch 4/10, train loss: 0.1701, train acc: 0.9314, test loss: 0.2387, test acc: 0.9076\n",
      "Epoch 5/10, train loss: 0.0954, train acc: 0.9619, test loss: 0.2450, test acc: 0.9146\n",
      "Epoch 6/10, train loss: 0.0712, train acc: 0.9718, test loss: 0.2957, test acc: 0.9043\n",
      "Epoch 7/10, train loss: 0.0695, train acc: 0.9770, test loss: 0.2553, test acc: 0.9236\n",
      "Epoch 8/10, train loss: 0.0425, train acc: 0.9829, test loss: 0.2371, test acc: 0.9339\n",
      "Epoch 9/10, train loss: 0.0170, train acc: 0.9945, test loss: 0.2170, test acc: 0.9485\n",
      "Epoch 10/10, train loss: 0.0059, train acc: 0.9980, test loss: 0.2117, test acc: 0.9461\n"
     ]
    }
   ],
   "source": [
    "num_epochs = 10\n",
    "train_loss_tot = []\n",
    "train_acc_tot = []\n",
    "test_loss_tot = []\n",
    "test_acc_tot = []\n",
    " \n",
    "# Loop through the number of epochs\n",
    "for epoch in range(num_epochs):\n",
    "    train_loss = 0.0\n",
    "    train_acc = 0.0\n",
    "    test_loss = 0.0\n",
    "    test_acc = 0.0\n",
    " \n",
    "    # set model to train mode\n",
    "    model.train()\n",
    "    # iterate over the training data\n",
    "    for inputs, labels in train_loader:\n",
    "        #inputs = inputs.reshape(batch_size,1,300,300)\n",
    "        optimizer.zero_grad()\n",
    "        outputs = model(inputs)\n",
    "        #compute the loss\n",
    "        loss = criterion(outputs, labels)\n",
    "        loss.backward()\n",
    "        optimizer.step()\n",
    "        # increment the running loss and accuracy\n",
    "        train_loss += loss.item()\n",
    "        train_acc += (outputs.argmax(1) == labels).sum().item()\n",
    " \n",
    "    # calculate the average training loss and accuracy\n",
    "    train_loss /= len(train_loader)\n",
    "    train_loss_tot.append(train_loss)\n",
    "    train_acc /= len(train_loader.dataset)\n",
    "    train_acc_tot.append(train_acc)\n",
    " \n",
    "    # set the model to evaluation mode\n",
    "    model.eval()\n",
    "    with torch.no_grad():\n",
    "        for inputs, labels in test_loader:\n",
    "            #inputs = inputs.reshape(batch_size,1,300,300) \n",
    "            outputs = model(inputs)\n",
    "            loss = criterion(outputs, labels)\n",
    "            test_loss += loss.item()\n",
    "            test_acc += (outputs.argmax(1) == labels).sum().item()\n",
    " \n",
    "    # calculate the average validation loss and accuracy\n",
    "    test_loss /= len(test_loader)\n",
    "    test_loss_tot.append(test_loss)\n",
    "    test_acc /= len(test_loader.dataset)\n",
    "    test_acc_tot.append(test_acc)\n",
    "    print(f'Epoch {epoch+1}/{num_epochs}, train loss: {train_loss:.4f}, train acc: {train_acc:.4f}, test loss: {test_loss:.4f}, test acc: {test_acc:.4f}')"
   ]
  },
  {
   "cell_type": "code",
   "execution_count": 56,
   "metadata": {},
   "outputs": [
    {
     "data": {
      "image/png": "[encoded data removed]",
      "text/plain": [
       "<Figure size 640x480 with 1 Axes>"
      ]
     },
     "metadata": {},
     "output_type": "display_data"
    },
    {
     "data": {
      "image/png": "[encoded data removed]",
      "text/plain": [
       "<Figure size 640x480 with 1 Axes>"
      ]
     },
     "metadata": {},
     "output_type": "display_data"
    }
   ],
   "source": [
    "import matplotlib.pyplot as plt\n",
    " \n",
    "# Plot the training and validation loss\n",
    "plt.plot(train_loss_tot, label='train loss')\n",
    "plt.plot(test_loss_tot, label='test loss')\n",
    "plt.legend()\n",
    "plt.show()\n",
    " \n",
    "# Plot the training and validation accuracy\n",
    "plt.plot(train_acc_tot, label='train acc')\n",
    "plt.plot(test_acc_tot, label='test acc')\n",
    "plt.legend()\n",
    "plt.show()"
   ]
  },
  {
   "cell_type": "code",
   "execution_count": 59,
   "metadata": {},
   "outputs": [],
   "source": [
    "# import the opencv library\n",
    "import cv2\n",
    "import os\n",
    "vid = cv2.VideoCapture(0)\n",
    "path = 'C:/Users/aksha/OneDrive/Desktop/Desktop/Spring 2023/Estimation Detection and Learning/Final Project/Test_Results/'\n",
    "sub_list = os.listdir(path)\n",
    "sub_list = [int(i) for i in sub_list]\n",
    "# Create new test folder if it does not exist\n",
    "if len(sub_list) == 0:\n",
    "    new_dir_path = os.path.join(path, str(1))\n",
    "    os.mkdir(new_dir_path)\n",
    "else:\n",
    "    new_folder = max(sub_list) + 1\n",
    "    new_dir_path = os.path.join(path, str(new_folder))\n",
    "    os.mkdir(new_dir_path)\n",
    "# Change directory to new test folder to save image frames in\n",
    "count = 0  \n",
    "os.chdir(new_dir_path)\n",
    "stereo = cv2.StereoBM_create(numDisparities=16, blockSize=9)\n",
    "model.eval()\n",
    "while(True):\n",
    "      \n",
    "    # Capture the video frame\n",
    "    # by frame\n",
    "    ret, frame = vid.read()\n",
    "  \n",
    "    # Display the resulting frame\n",
    "    cv2.imwrite('Frame'+str(count)+'.jpg', frame)\n",
    "\n",
    "    if count >= 5:\n",
    "        path1 = new_dir_path + '/Frame' + str(count-5)\n",
    "        path2 = new_dir_path + '/Frame' + str(count)\n",
    "        img1 = cv2.imread(path1 + '.jpg')\n",
    "        gray1 = cv2.cvtColor(img1, cv2.COLOR_BGR2GRAY)\n",
    "        img2 = cv2.imread(path2 + '.jpg')\n",
    "        gray2 = cv2.cvtColor(img2, cv2.COLOR_BGR2GRAY)\n",
    "        disparity = stereo.compute(gray1,gray2)\n",
    "        img_data = cv2.resize(disparity, (300, 300))\n",
    "        img_data = np.asarray(img_data)\n",
    "        img_data = img_data.astype(np.float32) # / 255.0\n",
    "        img_tensor = torch.from_numpy(img_data).float()\n",
    "        img_tensor = img_tensor.unsqueeze(0)\n",
    "        img_tensor = img_tensor.unsqueeze(0)\n",
    "        #img_tensor = img_tensor.permute(1, 0, 2, 3)\n",
    "        outputs = model(img_tensor)\n",
    "        class_out = outputs.argmax(1)\n",
    "        if class_out == 0:\n",
    "            out = 'Backward'\n",
    "        elif class_out == 1:\n",
    "            out = 'Standstill'\n",
    "        elif class_out == 2:\n",
    "            out = 'Left'\n",
    "        elif class_out == 3:\n",
    "            out = 'Right'\n",
    "        elif class_out == 4:\n",
    "            out = 'Forward'\n",
    "        cv2.putText(frame, out, (320,50), cv2.FONT_HERSHEY_SIMPLEX, 1, (0,0,255))\n",
    "        cv2.imshow('frame', frame)\n",
    "    count = count + 1\n",
    "    \n",
    "      \n",
    "    # the 'q' button is set as the\n",
    "    # quitting button you may use any\n",
    "    # desired button of your choice\n",
    "    if cv2.waitKey(1) & 0xFF == ord('q'):\n",
    "        break\n",
    "  \n",
    "# After the loop release the cap object\n",
    "vid.release()\n",
    "# Destroy all the windows\n",
    "cv2.destroyAllWindows()\n"
   ]
  },
  {
   "cell_type": "code",
   "execution_count": 17,
   "metadata": {},
   "outputs": [
    {
     "name": "stdout",
     "output_type": "stream",
     "text": [
      "C:/Users/aksha/OneDrive/Desktop/Desktop/Spring 2023/Estimation Detection and Learning/Final Project/Test_Results/8/Frame0\n"
     ]
    }
   ],
   "source": [
    "img1 = cv2.imread(path1 + '.jpg')\n",
    "print(path1)\n",
    "gray1 = cv2.cvtColor(img1, cv2.COLOR_BGR2GRAY)\n"
   ]
  }
 ],
 "metadata": {
  "kernelspec": {
   "display_name": "base",
   "language": "python",
   "name": "python3"
  },
  "language_info": {
   "codemirror_mode": {
    "name": "ipython",
    "version": 3
   },
   "file_extension": ".py",
   "mimetype": "text/x-python",
   "name": "python",
   "nbconvert_exporter": "python",
   "pygments_lexer": "ipython3",
   "version": "3.9.13"
  },
  "orig_nbformat": 4
 },
 "nbformat": 4,
 "nbformat_minor": 2
}
